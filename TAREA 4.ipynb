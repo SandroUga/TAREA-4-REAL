{
 "cells": [
  {
   "cell_type": "code",
   "execution_count": null,
   "metadata": {},
   "outputs": [],
   "source": []
  },
  {
   "cell_type": "code",
   "execution_count": 1,
   "metadata": {},
   "outputs": [],
   "source": [
    "#ejercicio: 1 cuantificar la cantidad de numeros y caracteres  \n",
    "#def cuantificardigitoscaracteres(str):\n",
    "    #digitos=0\n",
    "    #letras=0\n",
    "    #caracteres=0\n",
    "    #for c in str:\n",
    "            #if c.isdigit():\n",
    "              #digitos=+1\n",
    "            #elif c.isalpha():\n",
    "                 #letras+=1\n",
    "            #else:\n",
    "\n",
    "\n",
    "\n",
    "\n",
    "\n",
    "               #caracteres=+1 \n",
    "      \n",
    "            #print (\"numeros\",digitos,\"letras\",letras,\"simbolos\",caracteres)      \n",
    "#cuantificardigitoscaracteres(\"123sur#\")\n",
    "    \n",
    " #ejercio: 2 visualizaciones\n",
    "#from collections import Counter,defaultdict \n",
    "#frase = \"san valenton\" \n",
    "#resultado = {}\n",
    "#for c in frase:\n",
    "    #resultado[c] = resultado.get(c,0)+ 1\n",
    "#print (resultado)\n",
    "\n",
    "#3ejercicio: 3 eliminar apariciones\n",
    "#lista1=[10,20,40,30,40,49,44,50,55,50,66,60,77,60]\n",
    "#lista2=[]\n",
    "#lista2=lista1[0:1]\n",
    "#for i in range (len(lista1)):\n",
    " #if lista1[i] not in lista2:\n",
    "  #lista2.append(lista1[i])\n",
    "#print(lista2)\n",
    "\n",
    "#4ejercico: Lista y tupla\n",
    "lista1=1,2,4,5,6,7,8\n",
    "entrada = input(\"escriba varios numeros separados por una coma:\")\n",
    "print (entrada)\n",
    "print(type(entrada))\n",
    "numeros=entrada.split(\",\")\n",
    "print (type(numeros))\n",
    "print(numeros)\n",
    "\n",
    "\n",
    "\n",
    "\n",
    "\n"
   ]
  }
 ],
 "metadata": {
  "kernelspec": {
   "display_name": "Python 3",
   "language": "python",
   "name": "python3"
  },
  "language_info": {
   "codemirror_mode": {
    "name": "ipython",
    "version": 3
   },
   "file_extension": ".py",
   "mimetype": "text/x-python",
   "name": "python",
   "nbconvert_exporter": "python",
   "pygments_lexer": "ipython3",
   "version": "3.11.1"
  },
  "orig_nbformat": 4,
  "vscode": {
   "interpreter": {
    "hash": "ce35b632619c18f80d60bedc262c99b5895d4a0b5c7d8cfeb3bedc6e906b96bb"
   }
  }
 },
 "nbformat": 4,
 "nbformat_minor": 2
}
